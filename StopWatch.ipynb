{
  "nbformat": 4,
  "nbformat_minor": 0,
  "metadata": {
    "colab": {
      "name": "StopWatch.ipynb",
      "provenance": [],
      "collapsed_sections": [],
      "authorship_tag": "ABX9TyNNRwLCErUkfq8ItIqGq88n",
      "include_colab_link": true
    },
    "kernelspec": {
      "name": "python3",
      "display_name": "Python 3"
    }
  },
  "cells": [
    {
      "cell_type": "markdown",
      "metadata": {
        "id": "view-in-github",
        "colab_type": "text"
      },
      "source": [
        "<a href=\"https://colab.research.google.com/github/tagasy/training/blob/master/StopWatch.ipynb\" target=\"_parent\"><img src=\"https://colab.research.google.com/assets/colab-badge.svg\" alt=\"Open In Colab\"/></a>"
      ]
    },
    {
      "cell_type": "code",
      "metadata": {
        "id": "7W0p0q5h8U_X",
        "colab_type": "code",
        "colab": {}
      },
      "source": [
        "import time\n",
        "\n",
        "class Stopwatch(object):\n",
        "  def __init__(self):\n",
        "    self.make = time.time()\n",
        "    self.lapcnt = 0\n",
        "    self.splitcnt = 0\n",
        "    return\n",
        "\n",
        "  def start(self):\n",
        "    self.st = time.time()\n",
        "    print('Start')\n",
        "    return self\n",
        "  \n",
        "  def stop(self):\n",
        "    print('Time:'time.time()-self.st, 'seconds')\n",
        "    return self\n",
        "\n",
        "  def lap(self):\n",
        "    self.lapcnt += 1\n",
        "    if self.lapcnt == 1:\n",
        "      self.laptime = time.time()\n",
        "      print('lap',self.lapcnt,':',self.laptime-self.st, 'seconds')\n",
        "    else:\n",
        "      self.laptime2 = time.time()\n",
        "      print('lap',self.lapcnt,':',self.laptime2-self.laptime,'seconds')\n",
        "      self.laptime = self.laptime2\n",
        "    return self\n",
        "      \n",
        "  def split(self):\n",
        "    self.splitcnt +=1\n",
        "    print('split',self.splitcnt,':',time.time()-self.st,'seconds')\n",
        "    return self\n",
        "\n",
        "  def reset(self):\n",
        "    self.st = self.make\n",
        "    self.lapcnt = 0\n",
        "    self.splitcnt = 0\n",
        "    print('Reset')\n",
        "    return self"
      ],
      "execution_count": 0,
      "outputs": []
    }
  ]
}