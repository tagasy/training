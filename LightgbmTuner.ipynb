{
  "nbformat": 4,
  "nbformat_minor": 0,
  "metadata": {
    "colab": {
      "name": "LightgbmTuner.ipynb",
      "provenance": [],
      "private_outputs": true,
      "collapsed_sections": [],
      "toc_visible": true,
      "authorship_tag": "ABX9TyOCMB48jOAzfLTHMLbyFnGX",
      "include_colab_link": true
    },
    "kernelspec": {
      "name": "python3",
      "display_name": "Python 3"
    }
  },
  "cells": [
    {
      "cell_type": "markdown",
      "metadata": {
        "id": "view-in-github",
        "colab_type": "text"
      },
      "source": [
        "<a href=\"https://colab.research.google.com/github/tagasy/training/blob/master/LightgbmTuner.ipynb\" target=\"_parent\"><img src=\"https://colab.research.google.com/assets/colab-badge.svg\" alt=\"Open In Colab\"/></a>"
      ]
    },
    {
      "cell_type": "code",
      "metadata": {
        "id": "MtKCpcHRtzod",
        "colab_type": "code",
        "colab": {}
      },
      "source": [
        "from google.colab import files\n",
        "uploaded = files.upload()"
      ],
      "execution_count": 0,
      "outputs": []
    },
    {
      "cell_type": "code",
      "metadata": {
        "id": "pff-ZY5EuWBV",
        "colab_type": "code",
        "colab": {}
      },
      "source": [
        "import numpy as np\n",
        "import pandas as pd\n",
        "import matplotlib.pyplot as plt\n",
        "from sklearn.model_selection import train_test_split\n",
        "import optuna.integration.lightgbm as lgb\n",
        "from sklearn import metrics\n",
        "from sklearn.metrics import log_loss\n",
        "from sklearn.linear_model import LogisticRegression\n",
        "from sklearn.preprocessing import StandardScaler\n",
        "from sklearn.model_selection import StratifiedKFold\n",
        "from sklearn.model_selection import GridSearchCV"
      ],
      "execution_count": 0,
      "outputs": []
    },
    {
      "cell_type": "code",
      "metadata": {
        "id": "Xalbo-kmuno_",
        "colab_type": "code",
        "colab": {}
      },
      "source": [
        "train = pd.read_csv('train.csv')"
      ],
      "execution_count": 0,
      "outputs": []
    },
    {
      "cell_type": "code",
      "metadata": {
        "id": "d708Wg7juvMr",
        "colab_type": "code",
        "colab": {}
      },
      "source": [
        "X = train.drop(['id','target'], axis=1)\n",
        "y = train[\"target\"].copy()"
      ],
      "execution_count": 0,
      "outputs": []
    },
    {
      "cell_type": "code",
      "metadata": {
        "id": "4de3fZWRuwhL",
        "colab_type": "code",
        "colab": {}
      },
      "source": [
        "#評価用関数\n",
        "def get_evaluate(y_test, predict):\n",
        "\n",
        "    fpr, tpr, thr_arr = metrics.roc_curve(y_test, predict)\n",
        "\n",
        "    auc = metrics.auc(fpr, tpr)\n",
        "    precision = metrics.precision_score(y_test, predict)\n",
        "    recall = metrics.recall_score(y_test, predict)\n",
        "\n",
        "    return auc, precision, recall"
      ],
      "execution_count": 0,
      "outputs": []
    },
    {
      "cell_type": "code",
      "metadata": {
        "id": "_PI2Kji1u07p",
        "colab_type": "code",
        "colab": {}
      },
      "source": [
        "pip install optuna"
      ],
      "execution_count": 0,
      "outputs": []
    },
    {
      "cell_type": "code",
      "metadata": {
        "id": "nDE79izZ73hK",
        "colab_type": "code",
        "colab": {}
      },
      "source": [
        "X_train, X_test, y_train, y_test = train_test_split(X, y, shuffle=True, random_state=42)\n",
        "x_tr, x_val, y_tr, y_val = train_test_split(X_train, y_train, shuffle=True, random_state=42)\n",
        "\n",
        "lgb_train = lgb.Dataset(x_tr, y_tr)\n",
        "lgb_valid = lgb.Dataset(x_val, y_val, reference=lgb_train)\n",
        "\n",
        "params={\n",
        "    'objective':  'binary',\n",
        "    'metrics': 'binary_logloss'\n",
        "}\n",
        "\n",
        "model = lgb.train(params,\n",
        "                  lgb_train,\n",
        "                  valid_set=lgb_valid,\n",
        "                  num_boost_round=1000,\n",
        "                  verbose_eval=10)\n",
        "\n",
        "y_pred = model.predict(X_test)\n",
        "predict = [0 if i < 0.5 else 1 for i in y_pred]\n",
        "\n",
        "auc, precision, recall = get_evaluate(Y_test, predict)\n",
        "print('AUC:{}, precision:{}, recall:{}'.format(auc, precision, recall))"
      ],
      "execution_count": 0,
      "outputs": []
    }
  ]
}