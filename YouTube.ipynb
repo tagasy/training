{
  "nbformat": 4,
  "nbformat_minor": 0,
  "metadata": {
    "colab": {
      "name": "YouTube.ipynb",
      "provenance": [],
      "private_outputs": true,
      "collapsed_sections": [],
      "toc_visible": true,
      "authorship_tag": "ABX9TyNPk6O18iQSDBxp9YIsTUDM",
      "include_colab_link": true
    },
    "kernelspec": {
      "name": "python3",
      "display_name": "Python 3"
    }
  },
  "cells": [
    {
      "cell_type": "markdown",
      "metadata": {
        "id": "view-in-github",
        "colab_type": "text"
      },
      "source": [
        "<a href=\"https://colab.research.google.com/github/tagasy/training/blob/master/YouTube.ipynb\" target=\"_parent\"><img src=\"https://colab.research.google.com/assets/colab-badge.svg\" alt=\"Open In Colab\"/></a>"
      ]
    },
    {
      "cell_type": "code",
      "metadata": {
        "id": "_b-G1yCGW0HQ",
        "colab_type": "code",
        "colab": {}
      },
      "source": [
        "from google.colab import files\n",
        "import numpy as np\n",
        "uploaded = files.upload()"
      ],
      "execution_count": 0,
      "outputs": []
    },
    {
      "cell_type": "code",
      "metadata": {
        "id": "l_kpaJLCXK2t",
        "colab_type": "code",
        "colab": {}
      },
      "source": [
        "import pandas as pd\n",
        "import matplotlib.pyplot as plt\n",
        "import codecs\n",
        "import seaborn as sns"
      ],
      "execution_count": 0,
      "outputs": []
    },
    {
      "cell_type": "code",
      "metadata": {
        "id": "fVxK8r5lYXH3",
        "colab_type": "code",
        "colab": {}
      },
      "source": [
        "with codecs.open('JPvideos.csv', 'r', encoding='utf-8', errors='ignore')as f:\n",
        "  data = pd.read_csv(f)\n",
        "\n",
        "data.head()"
      ],
      "execution_count": 0,
      "outputs": []
    },
    {
      "cell_type": "code",
      "metadata": {
        "id": "rB5VTtcdb9qA",
        "colab_type": "code",
        "colab": {}
      },
      "source": [
        "print(data.columns)"
      ],
      "execution_count": 0,
      "outputs": []
    },
    {
      "cell_type": "code",
      "metadata": {
        "id": "-qxQc8pycEOl",
        "colab_type": "code",
        "colab": {}
      },
      "source": [
        "data.shape"
      ],
      "execution_count": 0,
      "outputs": []
    },
    {
      "cell_type": "code",
      "metadata": {
        "id": "pFzepCn1ckAR",
        "colab_type": "code",
        "colab": {}
      },
      "source": [
        "data.info()"
      ],
      "execution_count": 0,
      "outputs": []
    },
    {
      "cell_type": "code",
      "metadata": {
        "id": "bpPJ5J-Gczmj",
        "colab_type": "code",
        "colab": {}
      },
      "source": [
        "data = data.drop(['description'], axis=1)\n",
        "data.head()"
      ],
      "execution_count": 0,
      "outputs": []
    },
    {
      "cell_type": "code",
      "metadata": {
        "id": "_zXLht8nhCR5",
        "colab_type": "code",
        "colab": {}
      },
      "source": [
        "data['category_name'] = np.nan\n",
        "data.loc[(data[\"category_id\"]==1), \"category_name\"] = \"Film & Animation\"\n",
        "data.loc[(data[\"category_id\"]==2), \"category_name\"] = \"Autos & Vehicles\"\n",
        "data.loc[(data[\"category_id\"]==10), \"category_name\"] = \"Music\"\n",
        "data.loc[(data[\"category_id\"]==15), \"category_name\"] = \"Pets & Animals\"\n",
        "data.loc[(data[\"category_id\"]==17), \"category_name\"] = \"Sports\"\n",
        "data.loc[(data[\"category_id\"]==18), \"category_name\"] = \"Short movies\"\n",
        "data.loc[(data[\"category_id\"]==19), \"cateogry_name\"] = \"Travels&Events\"\n",
        "data.loc[(data[\"category_id\"]==20), \"category_name\"] = \"Gaming\"\n",
        "data.loc[(data[\"category_id\"]==21), \"category_name\"] = \"Videoblogging\"\n",
        "data.loc[(data[\"category_id\"]==22), \"category_name\"] = \"People & Blogs\"\n",
        "data.loc[(data[\"category_id\"]==23), \"catogory_name\"] = \"Comedy\"\n",
        "data.loc[(data[\"category_id\"]==24), \"category_name\"] = \"Entertainment\"\n",
        "data.loc[(data[\"category_id\"]==25), \"category_name\"] = \"News & Politics\"\n",
        "data.loc[(data[\"category_id\"]==26), \"category_name\"] = \"Howto & Style\"\n",
        "data.loc[(data[\"category_id\"]==27), \"category_name\"] = \"Education\"\n",
        "data.loc[(data[\"category_id\"]==28), \"category_name\"] = \"Science & Technology\"\n",
        "data.loc[(data[\"category_id\"]==29), \"category_name\"] = \"Non Profits and Activism\""
      ],
      "execution_count": 0,
      "outputs": []
    },
    {
      "cell_type": "code",
      "metadata": {
        "id": "qwsZmAGwdmgR",
        "colab_type": "code",
        "colab": {}
      },
      "source": [
        "print(\"Category names count\")\n",
        "print(data.category_name.value_counts())"
      ],
      "execution_count": 0,
      "outputs": []
    },
    {
      "cell_type": "code",
      "metadata": {
        "id": "AYE4IFskgLtp",
        "colab_type": "code",
        "colab": {}
      },
      "source": [
        "plt.figure(figsize = (14,9))\n",
        "\n",
        "plt.subplot(211)\n",
        "g = sns.countplot('category_name', data=data)\n",
        "g.set_xticklabels(g.get_xticklabels(),rotation=45)\n",
        "g.set_title(\"Counting the Video Category's \", fontsize=15)\n",
        "g.set_xlabel(\"\", fontsize=12)\n",
        "g.set_ylabel(\"Count\", fontsize=12)"
      ],
      "execution_count": 0,
      "outputs": []
    }
  ]
}